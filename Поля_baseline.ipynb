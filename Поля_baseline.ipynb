{
  "cells": [
    {
      "cell_type": "markdown",
      "metadata": {
        "id": "fnE1_J-4dhSR"
      },
      "source": [
        "## Загрузим нужные библиотеки"
      ]
    },
    {
      "cell_type": "code",
      "execution_count": 473,
      "metadata": {
        "id": "uaKzqUxsdjDa"
      },
      "outputs": [],
      "source": [
        "import pandas as pd\n",
        "import seaborn as sns\n",
        "import matplotlib.pyplot as plt\n",
        "from sklearn.model_selection import train_test_split\n",
        "from sklearn.ensemble import RandomForestClassifier\n",
        "\n",
        "%matplotlib inline"
      ]
    },
    {
      "cell_type": "code",
      "execution_count": 521,
      "metadata": {
        "id": "2scLoULoXkT0"
      },
      "outputs": [],
      "source": [
        "df = pd.read_csv(\"/content/train.csv\")"
      ]
    },
    {
      "cell_type": "markdown",
      "metadata": {
        "id": "WcxAsO_Md05t"
      },
      "source": [
        "## Рассмотрим датасет по ближе"
      ]
    },
    {
      "cell_type": "code",
      "execution_count": 522,
      "metadata": {
        "colab": {
          "base_uri": "https://localhost:8080/",
          "height": 254
        },
        "id": "I16XfuOpXwIy",
        "outputId": "f44fbf10-f067-4716-9c1d-f4660753940e"
      },
      "outputs": [
        {
          "output_type": "execute_result",
          "data": {
            "text/plain": [
              "     id  area  nd_mean_2021-04-15  nd_mean_2021-04-16  nd_mean_2021-04-18  \\\n",
              "0  1612    40            0.159413            0.251090             0.28886   \n",
              "1   978    75            0.231795            0.260749             0.30419   \n",
              "2  3050    75            0.000000            0.176574             0.00000   \n",
              "\n",
              "   nd_mean_2021-04-22  nd_mean_2021-04-26  nd_mean_2021-04-28  \\\n",
              "0            0.039673            0.301931            0.000000   \n",
              "1            0.483102            0.213664            0.190464   \n",
              "2            0.291817            0.352851            0.024589   \n",
              "\n",
              "   nd_mean_2021-04-30  nd_mean_2021-05-01  ...  nd_mean_2021-07-05  \\\n",
              "0            0.274627            0.079860  ...            0.760103   \n",
              "1            0.342645            0.000000  ...            0.119815   \n",
              "2            0.000000            0.345859  ...            0.305729   \n",
              "\n",
              "   nd_mean_2021-08-13  nd_mean_2021-08-27  nd_mean_2021-05-03  \\\n",
              "0            0.413159            0.000000            0.169458   \n",
              "1            0.339988            0.145459            0.000000   \n",
              "2            0.000000            0.023593            0.149080   \n",
              "\n",
              "   nd_mean_2021-06-02  nd_mean_2021-07-04  nd_mean_2021-08-10  \\\n",
              "0            0.568205            0.362157            0.380075   \n",
              "1            0.013604            0.258762            0.271984   \n",
              "2            0.000000            0.158617            0.419407   \n",
              "\n",
              "   nd_mean_2021-08-23  nd_mean_2021-05-24  crop  \n",
              "0            0.360077            0.552304     5  \n",
              "1            0.000000            0.302597     0  \n",
              "2            0.046266            0.215719     6  \n",
              "\n",
              "[3 rows x 74 columns]"
            ],
            "text/html": [
              "\n",
              "  <div id=\"df-0b7b6393-4c5d-421c-b788-331fcf015b7e\">\n",
              "    <div class=\"colab-df-container\">\n",
              "      <div>\n",
              "<style scoped>\n",
              "    .dataframe tbody tr th:only-of-type {\n",
              "        vertical-align: middle;\n",
              "    }\n",
              "\n",
              "    .dataframe tbody tr th {\n",
              "        vertical-align: top;\n",
              "    }\n",
              "\n",
              "    .dataframe thead th {\n",
              "        text-align: right;\n",
              "    }\n",
              "</style>\n",
              "<table border=\"1\" class=\"dataframe\">\n",
              "  <thead>\n",
              "    <tr style=\"text-align: right;\">\n",
              "      <th></th>\n",
              "      <th>id</th>\n",
              "      <th>area</th>\n",
              "      <th>nd_mean_2021-04-15</th>\n",
              "      <th>nd_mean_2021-04-16</th>\n",
              "      <th>nd_mean_2021-04-18</th>\n",
              "      <th>nd_mean_2021-04-22</th>\n",
              "      <th>nd_mean_2021-04-26</th>\n",
              "      <th>nd_mean_2021-04-28</th>\n",
              "      <th>nd_mean_2021-04-30</th>\n",
              "      <th>nd_mean_2021-05-01</th>\n",
              "      <th>...</th>\n",
              "      <th>nd_mean_2021-07-05</th>\n",
              "      <th>nd_mean_2021-08-13</th>\n",
              "      <th>nd_mean_2021-08-27</th>\n",
              "      <th>nd_mean_2021-05-03</th>\n",
              "      <th>nd_mean_2021-06-02</th>\n",
              "      <th>nd_mean_2021-07-04</th>\n",
              "      <th>nd_mean_2021-08-10</th>\n",
              "      <th>nd_mean_2021-08-23</th>\n",
              "      <th>nd_mean_2021-05-24</th>\n",
              "      <th>crop</th>\n",
              "    </tr>\n",
              "  </thead>\n",
              "  <tbody>\n",
              "    <tr>\n",
              "      <th>0</th>\n",
              "      <td>1612</td>\n",
              "      <td>40</td>\n",
              "      <td>0.159413</td>\n",
              "      <td>0.251090</td>\n",
              "      <td>0.28886</td>\n",
              "      <td>0.039673</td>\n",
              "      <td>0.301931</td>\n",
              "      <td>0.000000</td>\n",
              "      <td>0.274627</td>\n",
              "      <td>0.079860</td>\n",
              "      <td>...</td>\n",
              "      <td>0.760103</td>\n",
              "      <td>0.413159</td>\n",
              "      <td>0.000000</td>\n",
              "      <td>0.169458</td>\n",
              "      <td>0.568205</td>\n",
              "      <td>0.362157</td>\n",
              "      <td>0.380075</td>\n",
              "      <td>0.360077</td>\n",
              "      <td>0.552304</td>\n",
              "      <td>5</td>\n",
              "    </tr>\n",
              "    <tr>\n",
              "      <th>1</th>\n",
              "      <td>978</td>\n",
              "      <td>75</td>\n",
              "      <td>0.231795</td>\n",
              "      <td>0.260749</td>\n",
              "      <td>0.30419</td>\n",
              "      <td>0.483102</td>\n",
              "      <td>0.213664</td>\n",
              "      <td>0.190464</td>\n",
              "      <td>0.342645</td>\n",
              "      <td>0.000000</td>\n",
              "      <td>...</td>\n",
              "      <td>0.119815</td>\n",
              "      <td>0.339988</td>\n",
              "      <td>0.145459</td>\n",
              "      <td>0.000000</td>\n",
              "      <td>0.013604</td>\n",
              "      <td>0.258762</td>\n",
              "      <td>0.271984</td>\n",
              "      <td>0.000000</td>\n",
              "      <td>0.302597</td>\n",
              "      <td>0</td>\n",
              "    </tr>\n",
              "    <tr>\n",
              "      <th>2</th>\n",
              "      <td>3050</td>\n",
              "      <td>75</td>\n",
              "      <td>0.000000</td>\n",
              "      <td>0.176574</td>\n",
              "      <td>0.00000</td>\n",
              "      <td>0.291817</td>\n",
              "      <td>0.352851</td>\n",
              "      <td>0.024589</td>\n",
              "      <td>0.000000</td>\n",
              "      <td>0.345859</td>\n",
              "      <td>...</td>\n",
              "      <td>0.305729</td>\n",
              "      <td>0.000000</td>\n",
              "      <td>0.023593</td>\n",
              "      <td>0.149080</td>\n",
              "      <td>0.000000</td>\n",
              "      <td>0.158617</td>\n",
              "      <td>0.419407</td>\n",
              "      <td>0.046266</td>\n",
              "      <td>0.215719</td>\n",
              "      <td>6</td>\n",
              "    </tr>\n",
              "  </tbody>\n",
              "</table>\n",
              "<p>3 rows × 74 columns</p>\n",
              "</div>\n",
              "      <button class=\"colab-df-convert\" onclick=\"convertToInteractive('df-0b7b6393-4c5d-421c-b788-331fcf015b7e')\"\n",
              "              title=\"Convert this dataframe to an interactive table.\"\n",
              "              style=\"display:none;\">\n",
              "        \n",
              "  <svg xmlns=\"http://www.w3.org/2000/svg\" height=\"24px\"viewBox=\"0 0 24 24\"\n",
              "       width=\"24px\">\n",
              "    <path d=\"M0 0h24v24H0V0z\" fill=\"none\"/>\n",
              "    <path d=\"M18.56 5.44l.94 2.06.94-2.06 2.06-.94-2.06-.94-.94-2.06-.94 2.06-2.06.94zm-11 1L8.5 8.5l.94-2.06 2.06-.94-2.06-.94L8.5 2.5l-.94 2.06-2.06.94zm10 10l.94 2.06.94-2.06 2.06-.94-2.06-.94-.94-2.06-.94 2.06-2.06.94z\"/><path d=\"M17.41 7.96l-1.37-1.37c-.4-.4-.92-.59-1.43-.59-.52 0-1.04.2-1.43.59L10.3 9.45l-7.72 7.72c-.78.78-.78 2.05 0 2.83L4 21.41c.39.39.9.59 1.41.59.51 0 1.02-.2 1.41-.59l7.78-7.78 2.81-2.81c.8-.78.8-2.07 0-2.86zM5.41 20L4 18.59l7.72-7.72 1.47 1.35L5.41 20z\"/>\n",
              "  </svg>\n",
              "      </button>\n",
              "      \n",
              "  <style>\n",
              "    .colab-df-container {\n",
              "      display:flex;\n",
              "      flex-wrap:wrap;\n",
              "      gap: 12px;\n",
              "    }\n",
              "\n",
              "    .colab-df-convert {\n",
              "      background-color: #E8F0FE;\n",
              "      border: none;\n",
              "      border-radius: 50%;\n",
              "      cursor: pointer;\n",
              "      display: none;\n",
              "      fill: #1967D2;\n",
              "      height: 32px;\n",
              "      padding: 0 0 0 0;\n",
              "      width: 32px;\n",
              "    }\n",
              "\n",
              "    .colab-df-convert:hover {\n",
              "      background-color: #E2EBFA;\n",
              "      box-shadow: 0px 1px 2px rgba(60, 64, 67, 0.3), 0px 1px 3px 1px rgba(60, 64, 67, 0.15);\n",
              "      fill: #174EA6;\n",
              "    }\n",
              "\n",
              "    [theme=dark] .colab-df-convert {\n",
              "      background-color: #3B4455;\n",
              "      fill: #D2E3FC;\n",
              "    }\n",
              "\n",
              "    [theme=dark] .colab-df-convert:hover {\n",
              "      background-color: #434B5C;\n",
              "      box-shadow: 0px 1px 3px 1px rgba(0, 0, 0, 0.15);\n",
              "      filter: drop-shadow(0px 1px 2px rgba(0, 0, 0, 0.3));\n",
              "      fill: #FFFFFF;\n",
              "    }\n",
              "  </style>\n",
              "\n",
              "      <script>\n",
              "        const buttonEl =\n",
              "          document.querySelector('#df-0b7b6393-4c5d-421c-b788-331fcf015b7e button.colab-df-convert');\n",
              "        buttonEl.style.display =\n",
              "          google.colab.kernel.accessAllowed ? 'block' : 'none';\n",
              "\n",
              "        async function convertToInteractive(key) {\n",
              "          const element = document.querySelector('#df-0b7b6393-4c5d-421c-b788-331fcf015b7e');\n",
              "          const dataTable =\n",
              "            await google.colab.kernel.invokeFunction('convertToInteractive',\n",
              "                                                     [key], {});\n",
              "          if (!dataTable) return;\n",
              "\n",
              "          const docLinkHtml = 'Like what you see? Visit the ' +\n",
              "            '<a target=\"_blank\" href=https://colab.research.google.com/notebooks/data_table.ipynb>data table notebook</a>'\n",
              "            + ' to learn more about interactive tables.';\n",
              "          element.innerHTML = '';\n",
              "          dataTable['output_type'] = 'display_data';\n",
              "          await google.colab.output.renderOutput(dataTable, element);\n",
              "          const docLink = document.createElement('div');\n",
              "          docLink.innerHTML = docLinkHtml;\n",
              "          element.appendChild(docLink);\n",
              "        }\n",
              "      </script>\n",
              "    </div>\n",
              "  </div>\n",
              "  "
            ]
          },
          "metadata": {},
          "execution_count": 522
        }
      ],
      "source": [
        "df.head(3)"
      ]
    },
    {
      "cell_type": "code",
      "execution_count": 523,
      "metadata": {
        "colab": {
          "base_uri": "https://localhost:8080/"
        },
        "id": "czcOBmDFduKQ",
        "outputId": "4cc0c78b-1ccb-4504-d22e-85321dbe1936"
      },
      "outputs": [
        {
          "output_type": "stream",
          "name": "stdout",
          "text": [
            "<class 'pandas.core.frame.DataFrame'>\n",
            "RangeIndex: 4898 entries, 0 to 4897\n",
            "Data columns (total 74 columns):\n",
            " #   Column              Non-Null Count  Dtype  \n",
            "---  ------              --------------  -----  \n",
            " 0   id                  4898 non-null   int64  \n",
            " 1   area                4898 non-null   int64  \n",
            " 2   nd_mean_2021-04-15  4898 non-null   float64\n",
            " 3   nd_mean_2021-04-16  4898 non-null   float64\n",
            " 4   nd_mean_2021-04-18  4898 non-null   float64\n",
            " 5   nd_mean_2021-04-22  4898 non-null   float64\n",
            " 6   nd_mean_2021-04-26  4898 non-null   float64\n",
            " 7   nd_mean_2021-04-28  4898 non-null   float64\n",
            " 8   nd_mean_2021-04-30  4898 non-null   float64\n",
            " 9   nd_mean_2021-05-01  4898 non-null   float64\n",
            " 10  nd_mean_2021-05-02  4898 non-null   float64\n",
            " 11  nd_mean_2021-05-08  4898 non-null   float64\n",
            " 12  nd_mean_2021-05-15  4898 non-null   float64\n",
            " 13  nd_mean_2021-05-16  4898 non-null   float64\n",
            " 14  nd_mean_2021-05-17  4898 non-null   float64\n",
            " 15  nd_mean_2021-05-26  4898 non-null   float64\n",
            " 16  nd_mean_2021-05-27  4898 non-null   float64\n",
            " 17  nd_mean_2021-05-29  4898 non-null   float64\n",
            " 18  nd_mean_2021-06-07  4898 non-null   float64\n",
            " 19  nd_mean_2021-06-18  4898 non-null   float64\n",
            " 20  nd_mean_2021-06-19  4898 non-null   float64\n",
            " 21  nd_mean_2021-06-20  4898 non-null   float64\n",
            " 22  nd_mean_2021-06-22  4898 non-null   float64\n",
            " 23  nd_mean_2021-06-25  4898 non-null   float64\n",
            " 24  nd_mean_2021-06-27  4898 non-null   float64\n",
            " 25  nd_mean_2021-07-07  4898 non-null   float64\n",
            " 26  nd_mean_2021-07-08  4898 non-null   float64\n",
            " 27  nd_mean_2021-07-09  4898 non-null   float64\n",
            " 28  nd_mean_2021-07-13  4898 non-null   float64\n",
            " 29  nd_mean_2021-07-15  4898 non-null   float64\n",
            " 30  nd_mean_2021-07-17  4898 non-null   float64\n",
            " 31  nd_mean_2021-07-20  4898 non-null   float64\n",
            " 32  nd_mean_2021-07-26  4898 non-null   float64\n",
            " 33  nd_mean_2021-07-27  4898 non-null   float64\n",
            " 34  nd_mean_2021-07-29  4898 non-null   float64\n",
            " 35  nd_mean_2021-07-31  4898 non-null   float64\n",
            " 36  nd_mean_2021-08-01  4898 non-null   float64\n",
            " 37  nd_mean_2021-08-07  4898 non-null   float64\n",
            " 38  nd_mean_2021-08-12  4898 non-null   float64\n",
            " 39  .geo                4898 non-null   object \n",
            " 40  nd_mean_2021-04-19  4898 non-null   float64\n",
            " 41  nd_mean_2021-05-04  4898 non-null   float64\n",
            " 42  nd_mean_2021-05-07  4898 non-null   float64\n",
            " 43  nd_mean_2021-05-21  4898 non-null   float64\n",
            " 44  nd_mean_2021-06-06  4898 non-null   float64\n",
            " 45  nd_mean_2021-06-09  4898 non-null   float64\n",
            " 46  nd_mean_2021-06-13  4898 non-null   float64\n",
            " 47  nd_mean_2021-06-16  4898 non-null   float64\n",
            " 48  nd_mean_2021-04-25  4898 non-null   float64\n",
            " 49  nd_mean_2021-04-27  4898 non-null   float64\n",
            " 50  nd_mean_2021-04-29  4898 non-null   float64\n",
            " 51  nd_mean_2021-06-12  4898 non-null   float64\n",
            " 52  nd_mean_2021-06-28  4898 non-null   float64\n",
            " 53  nd_mean_2021-08-11  4898 non-null   float64\n",
            " 54  nd_mean_2021-04-20  4898 non-null   float64\n",
            " 55  nd_mean_2021-04-23  4898 non-null   float64\n",
            " 56  nd_mean_2021-05-09  4898 non-null   float64\n",
            " 57  nd_mean_2021-05-10  4898 non-null   float64\n",
            " 58  nd_mean_2021-05-19  4898 non-null   float64\n",
            " 59  nd_mean_2021-05-20  4898 non-null   float64\n",
            " 60  nd_mean_2021-06-03  4898 non-null   float64\n",
            " 61  nd_mean_2021-06-04  4898 non-null   float64\n",
            " 62  nd_mean_2021-06-05  4898 non-null   float64\n",
            " 63  nd_mean_2021-06-10  4898 non-null   float64\n",
            " 64  nd_mean_2021-07-05  4898 non-null   float64\n",
            " 65  nd_mean_2021-08-13  4898 non-null   float64\n",
            " 66  nd_mean_2021-08-27  4898 non-null   float64\n",
            " 67  nd_mean_2021-05-03  4898 non-null   float64\n",
            " 68  nd_mean_2021-06-02  4898 non-null   float64\n",
            " 69  nd_mean_2021-07-04  4898 non-null   float64\n",
            " 70  nd_mean_2021-08-10  4898 non-null   float64\n",
            " 71  nd_mean_2021-08-23  4898 non-null   float64\n",
            " 72  nd_mean_2021-05-24  4898 non-null   float64\n",
            " 73  crop                4898 non-null   int64  \n",
            "dtypes: float64(70), int64(3), object(1)\n",
            "memory usage: 2.8+ MB\n"
          ]
        }
      ],
      "source": [
        "df.info()"
      ]
    },
    {
      "cell_type": "markdown",
      "metadata": {
        "id": "yQuR1Zv65zp_"
      },
      "source": [
        "Рассмотрим единственный не числовой столбец"
      ]
    },
    {
      "cell_type": "code",
      "execution_count": 524,
      "metadata": {
        "colab": {
          "base_uri": "https://localhost:8080/",
          "height": 424
        },
        "id": "JKsM5f-W5p4i",
        "outputId": "6d8b32c9-d2e3-4ae9-a023-154e1838419e"
      },
      "outputs": [
        {
          "output_type": "execute_result",
          "data": {
            "text/plain": [
              "                                                   .geo\n",
              "0     {\"type\":\"Polygon\",\"coordinates\":[[[49.33090116...\n",
              "1     {\"type\":\"Polygon\",\"coordinates\":[[[41.41193007...\n",
              "2     {\"type\":\"Polygon\",\"coordinates\":[[[40.88636263...\n",
              "3     {\"type\":\"Polygon\",\"coordinates\":[[[33.86367532...\n",
              "4     {\"type\":\"Polygon\",\"coordinates\":[[[56.31367947...\n",
              "...                                                 ...\n",
              "4893  {\"type\":\"Polygon\",\"coordinates\":[[[34.97927998...\n",
              "4894  {\"type\":\"Polygon\",\"coordinates\":[[[45.02292349...\n",
              "4895  {\"type\":\"Polygon\",\"coordinates\":[[[45.37757811...\n",
              "4896  {\"type\":\"Polygon\",\"coordinates\":[[[62.80767351...\n",
              "4897  {\"type\":\"Polygon\",\"coordinates\":[[[37.78700202...\n",
              "\n",
              "[4898 rows x 1 columns]"
            ],
            "text/html": [
              "\n",
              "  <div id=\"df-198c93a5-8107-4c52-a3c7-8380708e85e7\">\n",
              "    <div class=\"colab-df-container\">\n",
              "      <div>\n",
              "<style scoped>\n",
              "    .dataframe tbody tr th:only-of-type {\n",
              "        vertical-align: middle;\n",
              "    }\n",
              "\n",
              "    .dataframe tbody tr th {\n",
              "        vertical-align: top;\n",
              "    }\n",
              "\n",
              "    .dataframe thead th {\n",
              "        text-align: right;\n",
              "    }\n",
              "</style>\n",
              "<table border=\"1\" class=\"dataframe\">\n",
              "  <thead>\n",
              "    <tr style=\"text-align: right;\">\n",
              "      <th></th>\n",
              "      <th>.geo</th>\n",
              "    </tr>\n",
              "  </thead>\n",
              "  <tbody>\n",
              "    <tr>\n",
              "      <th>0</th>\n",
              "      <td>{\"type\":\"Polygon\",\"coordinates\":[[[49.33090116...</td>\n",
              "    </tr>\n",
              "    <tr>\n",
              "      <th>1</th>\n",
              "      <td>{\"type\":\"Polygon\",\"coordinates\":[[[41.41193007...</td>\n",
              "    </tr>\n",
              "    <tr>\n",
              "      <th>2</th>\n",
              "      <td>{\"type\":\"Polygon\",\"coordinates\":[[[40.88636263...</td>\n",
              "    </tr>\n",
              "    <tr>\n",
              "      <th>3</th>\n",
              "      <td>{\"type\":\"Polygon\",\"coordinates\":[[[33.86367532...</td>\n",
              "    </tr>\n",
              "    <tr>\n",
              "      <th>4</th>\n",
              "      <td>{\"type\":\"Polygon\",\"coordinates\":[[[56.31367947...</td>\n",
              "    </tr>\n",
              "    <tr>\n",
              "      <th>...</th>\n",
              "      <td>...</td>\n",
              "    </tr>\n",
              "    <tr>\n",
              "      <th>4893</th>\n",
              "      <td>{\"type\":\"Polygon\",\"coordinates\":[[[34.97927998...</td>\n",
              "    </tr>\n",
              "    <tr>\n",
              "      <th>4894</th>\n",
              "      <td>{\"type\":\"Polygon\",\"coordinates\":[[[45.02292349...</td>\n",
              "    </tr>\n",
              "    <tr>\n",
              "      <th>4895</th>\n",
              "      <td>{\"type\":\"Polygon\",\"coordinates\":[[[45.37757811...</td>\n",
              "    </tr>\n",
              "    <tr>\n",
              "      <th>4896</th>\n",
              "      <td>{\"type\":\"Polygon\",\"coordinates\":[[[62.80767351...</td>\n",
              "    </tr>\n",
              "    <tr>\n",
              "      <th>4897</th>\n",
              "      <td>{\"type\":\"Polygon\",\"coordinates\":[[[37.78700202...</td>\n",
              "    </tr>\n",
              "  </tbody>\n",
              "</table>\n",
              "<p>4898 rows × 1 columns</p>\n",
              "</div>\n",
              "      <button class=\"colab-df-convert\" onclick=\"convertToInteractive('df-198c93a5-8107-4c52-a3c7-8380708e85e7')\"\n",
              "              title=\"Convert this dataframe to an interactive table.\"\n",
              "              style=\"display:none;\">\n",
              "        \n",
              "  <svg xmlns=\"http://www.w3.org/2000/svg\" height=\"24px\"viewBox=\"0 0 24 24\"\n",
              "       width=\"24px\">\n",
              "    <path d=\"M0 0h24v24H0V0z\" fill=\"none\"/>\n",
              "    <path d=\"M18.56 5.44l.94 2.06.94-2.06 2.06-.94-2.06-.94-.94-2.06-.94 2.06-2.06.94zm-11 1L8.5 8.5l.94-2.06 2.06-.94-2.06-.94L8.5 2.5l-.94 2.06-2.06.94zm10 10l.94 2.06.94-2.06 2.06-.94-2.06-.94-.94-2.06-.94 2.06-2.06.94z\"/><path d=\"M17.41 7.96l-1.37-1.37c-.4-.4-.92-.59-1.43-.59-.52 0-1.04.2-1.43.59L10.3 9.45l-7.72 7.72c-.78.78-.78 2.05 0 2.83L4 21.41c.39.39.9.59 1.41.59.51 0 1.02-.2 1.41-.59l7.78-7.78 2.81-2.81c.8-.78.8-2.07 0-2.86zM5.41 20L4 18.59l7.72-7.72 1.47 1.35L5.41 20z\"/>\n",
              "  </svg>\n",
              "      </button>\n",
              "      \n",
              "  <style>\n",
              "    .colab-df-container {\n",
              "      display:flex;\n",
              "      flex-wrap:wrap;\n",
              "      gap: 12px;\n",
              "    }\n",
              "\n",
              "    .colab-df-convert {\n",
              "      background-color: #E8F0FE;\n",
              "      border: none;\n",
              "      border-radius: 50%;\n",
              "      cursor: pointer;\n",
              "      display: none;\n",
              "      fill: #1967D2;\n",
              "      height: 32px;\n",
              "      padding: 0 0 0 0;\n",
              "      width: 32px;\n",
              "    }\n",
              "\n",
              "    .colab-df-convert:hover {\n",
              "      background-color: #E2EBFA;\n",
              "      box-shadow: 0px 1px 2px rgba(60, 64, 67, 0.3), 0px 1px 3px 1px rgba(60, 64, 67, 0.15);\n",
              "      fill: #174EA6;\n",
              "    }\n",
              "\n",
              "    [theme=dark] .colab-df-convert {\n",
              "      background-color: #3B4455;\n",
              "      fill: #D2E3FC;\n",
              "    }\n",
              "\n",
              "    [theme=dark] .colab-df-convert:hover {\n",
              "      background-color: #434B5C;\n",
              "      box-shadow: 0px 1px 3px 1px rgba(0, 0, 0, 0.15);\n",
              "      filter: drop-shadow(0px 1px 2px rgba(0, 0, 0, 0.3));\n",
              "      fill: #FFFFFF;\n",
              "    }\n",
              "  </style>\n",
              "\n",
              "      <script>\n",
              "        const buttonEl =\n",
              "          document.querySelector('#df-198c93a5-8107-4c52-a3c7-8380708e85e7 button.colab-df-convert');\n",
              "        buttonEl.style.display =\n",
              "          google.colab.kernel.accessAllowed ? 'block' : 'none';\n",
              "\n",
              "        async function convertToInteractive(key) {\n",
              "          const element = document.querySelector('#df-198c93a5-8107-4c52-a3c7-8380708e85e7');\n",
              "          const dataTable =\n",
              "            await google.colab.kernel.invokeFunction('convertToInteractive',\n",
              "                                                     [key], {});\n",
              "          if (!dataTable) return;\n",
              "\n",
              "          const docLinkHtml = 'Like what you see? Visit the ' +\n",
              "            '<a target=\"_blank\" href=https://colab.research.google.com/notebooks/data_table.ipynb>data table notebook</a>'\n",
              "            + ' to learn more about interactive tables.';\n",
              "          element.innerHTML = '';\n",
              "          dataTable['output_type'] = 'display_data';\n",
              "          await google.colab.output.renderOutput(dataTable, element);\n",
              "          const docLink = document.createElement('div');\n",
              "          docLink.innerHTML = docLinkHtml;\n",
              "          element.appendChild(docLink);\n",
              "        }\n",
              "      </script>\n",
              "    </div>\n",
              "  </div>\n",
              "  "
            ]
          },
          "metadata": {},
          "execution_count": 524
        }
      ],
      "source": [
        "df.select_dtypes(include=['object'])"
      ]
    },
    {
      "cell_type": "markdown",
      "metadata": {
        "id": "vVN39hUu6L2a"
      },
      "source": [
        "Это столбец **.geo**"
      ]
    },
    {
      "cell_type": "markdown",
      "metadata": {
        "id": "ySP6KVIC6TGf"
      },
      "source": [
        "Тепепрь рассмотрим главный столбец с C/Х культурой"
      ]
    },
    {
      "cell_type": "code",
      "execution_count": 525,
      "metadata": {
        "colab": {
          "base_uri": "https://localhost:8080/",
          "height": 881
        },
        "id": "ccsstA-IdxOJ",
        "outputId": "d68832f2-3f58-4da6-b2d0-68ca2205febe"
      },
      "outputs": [
        {
          "output_type": "execute_result",
          "data": {
            "text/plain": [
              "<matplotlib.axes._subplots.AxesSubplot at 0x7ff775e4b610>"
            ]
          },
          "metadata": {},
          "execution_count": 525
        },
        {
          "output_type": "display_data",
          "data": {
            "text/plain": [
              "<Figure size 1080x1080 with 1 Axes>"
            ],
            "image/png": "[encoded data removed]"
          },
          "metadata": {
            "needs_background": "light"
          }
        }
      ],
      "source": [
        "df[\"crop\"].hist(bins = 7)"
      ]
    },
    {
      "cell_type": "markdown",
      "metadata": {
        "id": "s9fKKhV8edY_"
      },
      "source": [
        "Заметен слабый разброс популярности категориий"
      ]
    },
    {
      "cell_type": "code",
      "execution_count": 526,
      "metadata": {
        "colab": {
          "base_uri": "https://localhost:8080/"
        },
        "id": "Gq6HjkgCeQSy",
        "outputId": "06093559-7957-42a3-dad9-9c2888584234"
      },
      "outputs": [
        {
          "output_type": "execute_result",
          "data": {
            "text/plain": [
              "3    713\n",
              "1    707\n",
              "5    706\n",
              "4    705\n",
              "6    703\n",
              "0    693\n",
              "2    671\n",
              "Name: crop, dtype: int64"
            ]
          },
          "metadata": {},
          "execution_count": 526
        }
      ],
      "source": [
        "df[\"crop\"].value_counts()"
      ]
    },
    {
      "cell_type": "markdown",
      "metadata": {
        "id": "oykqxzOm5Rwz"
      },
      "source": [
        "Посмотрим на разброс площади полей"
      ]
    },
    {
      "cell_type": "code",
      "execution_count": 527,
      "metadata": {
        "colab": {
          "base_uri": "https://localhost:8080/",
          "height": 895
        },
        "id": "opRa45nN5Nea",
        "outputId": "45a66f63-8aee-450d-8605-35994910edba"
      },
      "outputs": [
        {
          "output_type": "execute_result",
          "data": {
            "text/plain": [
              "<matplotlib.axes._subplots.AxesSubplot at 0x7ff77593c850>"
            ]
          },
          "metadata": {},
          "execution_count": 527
        },
        {
          "output_type": "display_data",
          "data": {
            "text/plain": [
              "<Figure size 1080x1080 with 1 Axes>"
            ],
            "image/png": "[encoded data removed]"
          },
          "metadata": {
            "needs_background": "light"
          }
        }
      ],
      "source": [
        "sns.countplot(x = \"area\" , data  = df)  "
      ]
    },
    {
      "cell_type": "markdown",
      "metadata": {
        "id": "1gths0kI5XkR"
      },
      "source": [
        "Постараемся найти закономерность"
      ]
    },
    {
      "cell_type": "code",
      "execution_count": 528,
      "metadata": {
        "colab": {
          "base_uri": "https://localhost:8080/",
          "height": 459
        },
        "id": "OH-8nXJ5fJAX",
        "outputId": "d04295a9-0f9a-40b9-c7cb-ddaadbddb32c"
      },
      "outputs": [
        {
          "output_type": "execute_result",
          "data": {
            "text/plain": [
              "<seaborn.axisgrid.JointGrid at 0x7ff775772ad0>"
            ]
          },
          "metadata": {},
          "execution_count": 528
        },
        {
          "output_type": "display_data",
          "data": {
            "text/plain": [
              "<Figure size 432x432 with 3 Axes>"
            ],
            "image/png": "[encoded data removed]"
          },
          "metadata": {
            "needs_background": "light"
          }
        }
      ],
      "source": [
        "sns.jointplot(x = \"crop\", y = 'area', data = df, kind = 'reg')"
      ]
    },
    {
      "cell_type": "markdown",
      "metadata": {
        "id": "9treu6dEfnd6"
      },
      "source": [
        "Кажется нет четкой зависимости между категорией культуры и площадью территроии"
      ]
    },
    {
      "cell_type": "markdown",
      "metadata": {
        "id": "x37Hw0K8hXOS"
      },
      "source": [
        "Последняя попытка найти явную зависимость в данных"
      ]
    },
    {
      "cell_type": "code",
      "execution_count": 529,
      "metadata": {
        "colab": {
          "base_uri": "https://localhost:8080/",
          "height": 893
        },
        "id": "LQNuW50pgJYa",
        "outputId": "d1fba77c-2e02-475a-ad21-0a09f960f520"
      },
      "outputs": [
        {
          "output_type": "display_data",
          "data": {
            "text/plain": [
              "<Figure size 1080x1080 with 2 Axes>"
            ],
            "image/png": "[encoded data removed]"
          },
          "metadata": {
            "needs_background": "light"
          }
        }
      ],
      "source": [
        "plt.rcParams['figure.figsize']=(15,15)\n",
        "\n",
        "corr = df.loc[:, \"nd_mean_2021-08-27\":\"crop\"].corr()\n",
        "g = sns.heatmap(corr, square = True, annot=True)"
      ]
    },
    {
      "cell_type": "markdown",
      "metadata": {
        "id": "WIFh_dnOhj1V"
      },
      "source": [
        "## Выделим выборки"
      ]
    },
    {
      "cell_type": "code",
      "execution_count": 530,
      "metadata": {
        "id": "mkCL9b-8hmZ1"
      },
      "outputs": [],
      "source": [
        "X = df.drop([\"id\",\".geo\", \"crop\"], axis = 1)\n",
        "y = df[[\"crop\"]]"
      ]
    },
    {
      "cell_type": "code",
      "source": [
        "X.head()"
      ],
      "metadata": {
        "colab": {
          "base_uri": "https://localhost:8080/",
          "height": 317
        },
        "id": "syYVXkxwl1IF",
        "outputId": "66c3a2e3-5cf6-440d-9517-4ec679f6799d"
      },
      "execution_count": 531,
      "outputs": [
        {
          "output_type": "execute_result",
          "data": {
            "text/plain": [
              "   area  nd_mean_2021-04-15  nd_mean_2021-04-16  nd_mean_2021-04-18  \\\n",
              "0    40            0.159413            0.251090            0.288860   \n",
              "1    75            0.231795            0.260749            0.304190   \n",
              "2    75            0.000000            0.176574            0.000000   \n",
              "3    55            0.000000            0.317001            0.267246   \n",
              "4    25            0.083827            0.000000            0.167003   \n",
              "\n",
              "   nd_mean_2021-04-22  nd_mean_2021-04-26  nd_mean_2021-04-28  \\\n",
              "0            0.039673            0.301931            0.000000   \n",
              "1            0.483102            0.213664            0.190464   \n",
              "2            0.291817            0.352851            0.024589   \n",
              "3            0.000000            0.265689            0.038065   \n",
              "4            0.308370            0.150439            0.179282   \n",
              "\n",
              "   nd_mean_2021-04-30  nd_mean_2021-05-01  nd_mean_2021-05-02  ...  \\\n",
              "0            0.274627            0.079860            0.142140  ...   \n",
              "1            0.342645            0.000000            0.396637  ...   \n",
              "2            0.000000            0.345859            0.145083  ...   \n",
              "3            0.000000            0.533367            0.276083  ...   \n",
              "4            0.192157            0.328494            0.132613  ...   \n",
              "\n",
              "   nd_mean_2021-06-10  nd_mean_2021-07-05  nd_mean_2021-08-13  \\\n",
              "0            0.651197            0.760103            0.413159   \n",
              "1            0.353390            0.119815            0.339988   \n",
              "2            0.031849            0.305729            0.000000   \n",
              "3            0.009670            0.129912            0.588483   \n",
              "4            0.072474            0.015783            0.143457   \n",
              "\n",
              "   nd_mean_2021-08-27  nd_mean_2021-05-03  nd_mean_2021-06-02  \\\n",
              "0            0.000000            0.169458            0.568205   \n",
              "1            0.145459            0.000000            0.013604   \n",
              "2            0.023593            0.149080            0.000000   \n",
              "3            0.020564            0.073617            0.804204   \n",
              "4            0.215363            0.101592            0.068873   \n",
              "\n",
              "   nd_mean_2021-07-04  nd_mean_2021-08-10  nd_mean_2021-08-23  \\\n",
              "0            0.362157            0.380075            0.360077   \n",
              "1            0.258762            0.271984            0.000000   \n",
              "2            0.158617            0.419407            0.046266   \n",
              "3            0.820184            0.018503            0.807123   \n",
              "4            0.190155            0.068211            0.379317   \n",
              "\n",
              "   nd_mean_2021-05-24  \n",
              "0            0.552304  \n",
              "1            0.302597  \n",
              "2            0.215719  \n",
              "3            0.202017  \n",
              "4            0.275945  \n",
              "\n",
              "[5 rows x 71 columns]"
            ],
            "text/html": [
              "\n",
              "  <div id=\"df-ede97d96-0cce-4380-8400-35e37c2d9d2f\">\n",
              "    <div class=\"colab-df-container\">\n",
              "      <div>\n",
              "<style scoped>\n",
              "    .dataframe tbody tr th:only-of-type {\n",
              "        vertical-align: middle;\n",
              "    }\n",
              "\n",
              "    .dataframe tbody tr th {\n",
              "        vertical-align: top;\n",
              "    }\n",
              "\n",
              "    .dataframe thead th {\n",
              "        text-align: right;\n",
              "    }\n",
              "</style>\n",
              "<table border=\"1\" class=\"dataframe\">\n",
              "  <thead>\n",
              "    <tr style=\"text-align: right;\">\n",
              "      <th></th>\n",
              "      <th>area</th>\n",
              "      <th>nd_mean_2021-04-15</th>\n",
              "      <th>nd_mean_2021-04-16</th>\n",
              "      <th>nd_mean_2021-04-18</th>\n",
              "      <th>nd_mean_2021-04-22</th>\n",
              "      <th>nd_mean_2021-04-26</th>\n",
              "      <th>nd_mean_2021-04-28</th>\n",
              "      <th>nd_mean_2021-04-30</th>\n",
              "      <th>nd_mean_2021-05-01</th>\n",
              "      <th>nd_mean_2021-05-02</th>\n",
              "      <th>...</th>\n",
              "      <th>nd_mean_2021-06-10</th>\n",
              "      <th>nd_mean_2021-07-05</th>\n",
              "      <th>nd_mean_2021-08-13</th>\n",
              "      <th>nd_mean_2021-08-27</th>\n",
              "      <th>nd_mean_2021-05-03</th>\n",
              "      <th>nd_mean_2021-06-02</th>\n",
              "      <th>nd_mean_2021-07-04</th>\n",
              "      <th>nd_mean_2021-08-10</th>\n",
              "      <th>nd_mean_2021-08-23</th>\n",
              "      <th>nd_mean_2021-05-24</th>\n",
              "    </tr>\n",
              "  </thead>\n",
              "  <tbody>\n",
              "    <tr>\n",
              "      <th>0</th>\n",
              "      <td>40</td>\n",
              "      <td>0.159413</td>\n",
              "      <td>0.251090</td>\n",
              "      <td>0.288860</td>\n",
              "      <td>0.039673</td>\n",
              "      <td>0.301931</td>\n",
              "      <td>0.000000</td>\n",
              "      <td>0.274627</td>\n",
              "      <td>0.079860</td>\n",
              "      <td>0.142140</td>\n",
              "      <td>...</td>\n",
              "      <td>0.651197</td>\n",
              "      <td>0.760103</td>\n",
              "      <td>0.413159</td>\n",
              "      <td>0.000000</td>\n",
              "      <td>0.169458</td>\n",
              "      <td>0.568205</td>\n",
              "      <td>0.362157</td>\n",
              "      <td>0.380075</td>\n",
              "      <td>0.360077</td>\n",
              "      <td>0.552304</td>\n",
              "    </tr>\n",
              "    <tr>\n",
              "      <th>1</th>\n",
              "      <td>75</td>\n",
              "      <td>0.231795</td>\n",
              "      <td>0.260749</td>\n",
              "      <td>0.304190</td>\n",
              "      <td>0.483102</td>\n",
              "      <td>0.213664</td>\n",
              "      <td>0.190464</td>\n",
              "      <td>0.342645</td>\n",
              "      <td>0.000000</td>\n",
              "      <td>0.396637</td>\n",
              "      <td>...</td>\n",
              "      <td>0.353390</td>\n",
              "      <td>0.119815</td>\n",
              "      <td>0.339988</td>\n",
              "      <td>0.145459</td>\n",
              "      <td>0.000000</td>\n",
              "      <td>0.013604</td>\n",
              "      <td>0.258762</td>\n",
              "      <td>0.271984</td>\n",
              "      <td>0.000000</td>\n",
              "      <td>0.302597</td>\n",
              "    </tr>\n",
              "    <tr>\n",
              "      <th>2</th>\n",
              "      <td>75</td>\n",
              "      <td>0.000000</td>\n",
              "      <td>0.176574</td>\n",
              "      <td>0.000000</td>\n",
              "      <td>0.291817</td>\n",
              "      <td>0.352851</td>\n",
              "      <td>0.024589</td>\n",
              "      <td>0.000000</td>\n",
              "      <td>0.345859</td>\n",
              "      <td>0.145083</td>\n",
              "      <td>...</td>\n",
              "      <td>0.031849</td>\n",
              "      <td>0.305729</td>\n",
              "      <td>0.000000</td>\n",
              "      <td>0.023593</td>\n",
              "      <td>0.149080</td>\n",
              "      <td>0.000000</td>\n",
              "      <td>0.158617</td>\n",
              "      <td>0.419407</td>\n",
              "      <td>0.046266</td>\n",
              "      <td>0.215719</td>\n",
              "    </tr>\n",
              "    <tr>\n",
              "      <th>3</th>\n",
              "      <td>55</td>\n",
              "      <td>0.000000</td>\n",
              "      <td>0.317001</td>\n",
              "      <td>0.267246</td>\n",
              "      <td>0.000000</td>\n",
              "      <td>0.265689</td>\n",
              "      <td>0.038065</td>\n",
              "      <td>0.000000</td>\n",
              "      <td>0.533367</td>\n",
              "      <td>0.276083</td>\n",
              "      <td>...</td>\n",
              "      <td>0.009670</td>\n",
              "      <td>0.129912</td>\n",
              "      <td>0.588483</td>\n",
              "      <td>0.020564</td>\n",
              "      <td>0.073617</td>\n",
              "      <td>0.804204</td>\n",
              "      <td>0.820184</td>\n",
              "      <td>0.018503</td>\n",
              "      <td>0.807123</td>\n",
              "      <td>0.202017</td>\n",
              "    </tr>\n",
              "    <tr>\n",
              "      <th>4</th>\n",
              "      <td>25</td>\n",
              "      <td>0.083827</td>\n",
              "      <td>0.000000</td>\n",
              "      <td>0.167003</td>\n",
              "      <td>0.308370</td>\n",
              "      <td>0.150439</td>\n",
              "      <td>0.179282</td>\n",
              "      <td>0.192157</td>\n",
              "      <td>0.328494</td>\n",
              "      <td>0.132613</td>\n",
              "      <td>...</td>\n",
              "      <td>0.072474</td>\n",
              "      <td>0.015783</td>\n",
              "      <td>0.143457</td>\n",
              "      <td>0.215363</td>\n",
              "      <td>0.101592</td>\n",
              "      <td>0.068873</td>\n",
              "      <td>0.190155</td>\n",
              "      <td>0.068211</td>\n",
              "      <td>0.379317</td>\n",
              "      <td>0.275945</td>\n",
              "    </tr>\n",
              "  </tbody>\n",
              "</table>\n",
              "<p>5 rows × 71 columns</p>\n",
              "</div>\n",
              "      <button class=\"colab-df-convert\" onclick=\"convertToInteractive('df-ede97d96-0cce-4380-8400-35e37c2d9d2f')\"\n",
              "              title=\"Convert this dataframe to an interactive table.\"\n",
              "              style=\"display:none;\">\n",
              "        \n",
              "  <svg xmlns=\"http://www.w3.org/2000/svg\" height=\"24px\"viewBox=\"0 0 24 24\"\n",
              "       width=\"24px\">\n",
              "    <path d=\"M0 0h24v24H0V0z\" fill=\"none\"/>\n",
              "    <path d=\"M18.56 5.44l.94 2.06.94-2.06 2.06-.94-2.06-.94-.94-2.06-.94 2.06-2.06.94zm-11 1L8.5 8.5l.94-2.06 2.06-.94-2.06-.94L8.5 2.5l-.94 2.06-2.06.94zm10 10l.94 2.06.94-2.06 2.06-.94-2.06-.94-.94-2.06-.94 2.06-2.06.94z\"/><path d=\"M17.41 7.96l-1.37-1.37c-.4-.4-.92-.59-1.43-.59-.52 0-1.04.2-1.43.59L10.3 9.45l-7.72 7.72c-.78.78-.78 2.05 0 2.83L4 21.41c.39.39.9.59 1.41.59.51 0 1.02-.2 1.41-.59l7.78-7.78 2.81-2.81c.8-.78.8-2.07 0-2.86zM5.41 20L4 18.59l7.72-7.72 1.47 1.35L5.41 20z\"/>\n",
              "  </svg>\n",
              "      </button>\n",
              "      \n",
              "  <style>\n",
              "    .colab-df-container {\n",
              "      display:flex;\n",
              "      flex-wrap:wrap;\n",
              "      gap: 12px;\n",
              "    }\n",
              "\n",
              "    .colab-df-convert {\n",
              "      background-color: #E8F0FE;\n",
              "      border: none;\n",
              "      border-radius: 50%;\n",
              "      cursor: pointer;\n",
              "      display: none;\n",
              "      fill: #1967D2;\n",
              "      height: 32px;\n",
              "      padding: 0 0 0 0;\n",
              "      width: 32px;\n",
              "    }\n",
              "\n",
              "    .colab-df-convert:hover {\n",
              "      background-color: #E2EBFA;\n",
              "      box-shadow: 0px 1px 2px rgba(60, 64, 67, 0.3), 0px 1px 3px 1px rgba(60, 64, 67, 0.15);\n",
              "      fill: #174EA6;\n",
              "    }\n",
              "\n",
              "    [theme=dark] .colab-df-convert {\n",
              "      background-color: #3B4455;\n",
              "      fill: #D2E3FC;\n",
              "    }\n",
              "\n",
              "    [theme=dark] .colab-df-convert:hover {\n",
              "      background-color: #434B5C;\n",
              "      box-shadow: 0px 1px 3px 1px rgba(0, 0, 0, 0.15);\n",
              "      filter: drop-shadow(0px 1px 2px rgba(0, 0, 0, 0.3));\n",
              "      fill: #FFFFFF;\n",
              "    }\n",
              "  </style>\n",
              "\n",
              "      <script>\n",
              "        const buttonEl =\n",
              "          document.querySelector('#df-ede97d96-0cce-4380-8400-35e37c2d9d2f button.colab-df-convert');\n",
              "        buttonEl.style.display =\n",
              "          google.colab.kernel.accessAllowed ? 'block' : 'none';\n",
              "\n",
              "        async function convertToInteractive(key) {\n",
              "          const element = document.querySelector('#df-ede97d96-0cce-4380-8400-35e37c2d9d2f');\n",
              "          const dataTable =\n",
              "            await google.colab.kernel.invokeFunction('convertToInteractive',\n",
              "                                                     [key], {});\n",
              "          if (!dataTable) return;\n",
              "\n",
              "          const docLinkHtml = 'Like what you see? Visit the ' +\n",
              "            '<a target=\"_blank\" href=https://colab.research.google.com/notebooks/data_table.ipynb>data table notebook</a>'\n",
              "            + ' to learn more about interactive tables.';\n",
              "          element.innerHTML = '';\n",
              "          dataTable['output_type'] = 'display_data';\n",
              "          await google.colab.output.renderOutput(dataTable, element);\n",
              "          const docLink = document.createElement('div');\n",
              "          docLink.innerHTML = docLinkHtml;\n",
              "          element.appendChild(docLink);\n",
              "        }\n",
              "      </script>\n",
              "    </div>\n",
              "  </div>\n",
              "  "
            ]
          },
          "metadata": {},
          "execution_count": 531
        }
      ]
    },
    {
      "cell_type": "markdown",
      "metadata": {
        "id": "60NotS9ehbO5"
      },
      "source": [
        "## Обучение модели"
      ]
    },
    {
      "cell_type": "code",
      "execution_count": 532,
      "metadata": {
        "id": "NfIOX9Lbik_i"
      },
      "outputs": [],
      "source": [
        "X_train, X_test, y_train, y_test = train_test_split(X, y, test_size=0.3, random_state=42)"
      ]
    },
    {
      "cell_type": "code",
      "execution_count": 539,
      "metadata": {
        "id": "jc-KKFlWf6_N"
      },
      "outputs": [],
      "source": [
        "clf = RandomForestClassifier(random_state=0, n_estimators = 3)"
      ]
    },
    {
      "cell_type": "code",
      "execution_count": 540,
      "metadata": {
        "colab": {
          "base_uri": "https://localhost:8080/"
        },
        "id": "bc8JAH4yf7Bs",
        "outputId": "4b49b98f-4811-4058-96fd-a3f23b3ab74e"
      },
      "outputs": [
        {
          "output_type": "stream",
          "name": "stderr",
          "text": [
            "/usr/local/lib/python3.7/dist-packages/ipykernel_launcher.py:1: DataConversionWarning: A column-vector y was passed when a 1d array was expected. Please change the shape of y to (n_samples,), for example using ravel().\n",
            "  \"\"\"Entry point for launching an IPython kernel.\n"
          ]
        },
        {
          "output_type": "execute_result",
          "data": {
            "text/plain": [
              "RandomForestClassifier(n_estimators=3, random_state=0)"
            ]
          },
          "metadata": {},
          "execution_count": 540
        }
      ],
      "source": [
        "clf.fit(X_train, y_train)"
      ]
    },
    {
      "cell_type": "markdown",
      "metadata": {
        "id": "6Y60HHS5jKeN"
      },
      "source": [
        "## Оценка точности"
      ]
    },
    {
      "cell_type": "code",
      "execution_count": 541,
      "metadata": {
        "id": "AgEZTGYujQMW",
        "colab": {
          "base_uri": "https://localhost:8080/"
        },
        "outputId": "c8a5de56-a493-4fdc-f4f5-539670e4db94"
      },
      "outputs": [
        {
          "output_type": "stream",
          "name": "stdout",
          "text": [
            "RandomForestClassifier(n_estimators=3, random_state=0) \n",
            " 0.6559326854718475\n"
          ]
        }
      ],
      "source": [
        "from sklearn.metrics import recall_score, precision_score\n",
        "\n",
        "pred = clf.predict(X_test)\n",
        "print(clf,'\\n',recall_score(y_test, pred, average=\"macro\", zero_division=0))"
      ]
    }
  ],
  "metadata": {
    "colab": {
      "provenance": []
    },
    "kernelspec": {
      "display_name": "Python 3",
      "name": "python3"
    },
    "language_info": {
      "name": "python"
    }
  },
  "nbformat": 4,
  "nbformat_minor": 0
}